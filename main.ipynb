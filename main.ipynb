{
  "cells": [
    {
      "cell_type": "markdown",
      "metadata": {
        "id": "3F6T03NIgqYv"
      },
      "source": [
        "## Testing Video"
      ]
    },
    {
      "cell_type": "markdown",
      "metadata": {
        "id": "t4pYSK7ugusR"
      },
      "source": [
        "\n",
        "\n",
        "*   The File Path must be in the exact order\n",
        "*   Colab Pro is need, since GPU access is crucial for this code\n",
        "*   The video files must be in mp4 format\n",
        "*   Save the station in drive folder under '/fly_fall_test_videos' and save the mp4 files there\n",
        "\n"
      ]
    },
    {
      "cell_type": "code",
      "execution_count": null,
      "metadata": {
        "id": "me8fs5hwgkE7"
      },
      "outputs": [],
      "source": [
        "# Connect to Google Drive\n",
        "%cd ..\n",
        "from google.colab import drive\n",
        "drive.mount('/content/gdrive')"
      ]
    },
    {
      "cell_type": "code",
      "execution_count": null,
      "metadata": {
        "id": "m2_QjL_fuvPj"
      },
      "outputs": [],
      "source": [
        "# Create a symlink to yoloV4 directory\n",
        "!ln -s /content/gdrive/Shareddrives/Falls\\ project\\ materials\\ March\\ 2024/yoloV4 /content/yoloV4"
      ]
    },
    {
      "cell_type": "code",
      "execution_count": null,
      "metadata": {
        "id": "mUFSWfDQjVBG"
      },
      "outputs": [],
      "source": [
        "# The base path for the project materials in Google Drive\n",
        "base_drive_path = \"/content/yoloV4\"\n",
        "\n",
        "# Path to the configuration folder where yolov4-custom.cfg is located\n",
        "config_folder = f\"{base_drive_path}/darknet/cfg\"\n",
        "\n",
        "# Path to the trained YOLOv4 weights file\n",
        "training_weights = f\"{base_drive_path}/training/yolov4-custom_last.weights\""
      ]
    },
    {
      "cell_type": "code",
      "execution_count": null,
      "metadata": {
        "id": "JdUhGS_1kaCG"
      },
      "outputs": [],
      "source": [
        "# Change to yolov4 directory\n",
        "%cd {base_drive_path}"
      ]
    },
    {
      "cell_type": "code",
      "execution_count": null,
      "metadata": {
        "id": "m1GMUiA2hfDu"
      },
      "outputs": [],
      "source": [
        "\n",
        "# Change to darknet directory\n",
        "%cd darknet/\n",
        "\n",
        "# Enable OpenCV, GPU, CUDNN, and LIBSO in the Makefile\n",
        "!sed -i 's/OPENCV=0/OPENCV=1/' Makefile\n",
        "!sed -i 's/GPU=0/GPU=1/' Makefile\n",
        "!sed -i 's/CUDNN=0/CUDNN=1/' Makefile\n",
        "!sed -i 's/CUDNN_HALF=0/CUDNN_HALF=1/' Makefile\n",
        "!sed -i 's/LIBSO=0/LIBSO=1/' Makefile"
      ]
    },
    {
      "cell_type": "code",
      "execution_count": null,
      "metadata": {
        "collapsed": true,
        "id": "k-Hf7JdIh8oT"
      },
      "outputs": [],
      "source": [
        "# Clean and Compile Darknet\n",
        "!make clean\n",
        "!make"
      ]
    },
    {
      "cell_type": "code",
      "execution_count": null,
      "metadata": {
        "id": "VCKKxeRniZ-Z"
      },
      "outputs": [],
      "source": [
        "# Copy Custom YOLOv4 Configuration and Data Files\n",
        "!cp {base_drive_path}/yolov4-custom.cfg cfg\n",
        "!cp {base_drive_path}/obj.names data\n",
        "!cp {base_drive_path}/obj.data data"
      ]
    },
    {
      "cell_type": "code",
      "execution_count": null,
      "metadata": {
        "id": "dJyXBHtbigKp"
      },
      "outputs": [],
      "source": [
        "# Adjust Configuration for Testing\n",
        "%cd {config_folder}\n",
        "!sed -i 's/batch=64/batch=1/' yolov4-custom.cfg\n",
        "!sed -i 's/subdivisions=16/subdivisions=1/' yolov4-custom.cfg\n",
        "%cd .."
      ]
    },
    {
      "cell_type": "code",
      "execution_count": null,
      "metadata": {
        "id": "Tfu1y1TojusC"
      },
      "outputs": [],
      "source": [
        "# Path to the folder containing the input video\n",
        "video_input_folder = f\"{base_drive_path}/fly_fall_test_videos/New_test_video\"\n",
        "# Name of the video file to be processed\n",
        "video_file_name = \"JT_test_10-6-24.mp4\"\n",
        "\n",
        "# Path to the output video file where detected objects are saved\n",
        "output_video_file = f\"{video_input_folder}/JT_test_10-6-24_detected.avi\"\n",
        "# # Path to the text file where bounding box coordinates are saved\n",
        "output_text_file = f\"{base_drive_path}/darknet/box_coordinate.txt\""
      ]
    },
    {
      "cell_type": "code",
      "source": [
        "import os\n",
        "\n",
        "file_path = output_text_file\n",
        "\n",
        "# Check if the file exists and delete it\n",
        "if os.path.exists(file_path):\n",
        "    os.remove(file_path)\n",
        "    print(f\"{file_path} has been deleted.\")\n",
        "else:\n",
        "    print(f\"The file {file_path} does not exist.\")\n",
        "\n",
        "new_file_path = output_text_file\n",
        "\n",
        "with open(new_file_path, 'w') as file:\n",
        "    pass  # 'pass' will create an empty file\n",
        "print(f\"An empty file has been created at {file_path}\")"
      ],
      "metadata": {
        "id": "UnmhR6xfJ0vl"
      },
      "execution_count": null,
      "outputs": []
    },
    {
      "cell_type": "code",
      "execution_count": null,
      "metadata": {
        "id": "crB4vr6wjxX1"
      },
      "outputs": [],
      "source": [
        "# Create an empty output text file for storing box coordinates\n",
        "\n",
        "%%writefile {output_text_file}"
      ]
    },
    {
      "cell_type": "code",
      "execution_count": null,
      "metadata": {
        "id": "Q2nvcO_8i2rV"
      },
      "outputs": [],
      "source": [
        "# Run YOLOv4 Object Detection\n",
        "\n",
        "!./darknet detector demo data/obj.data cfg/yolov4-custom.cfg {training_weights} \\\n",
        "-dont_show \"{video_input_folder}/{video_file_name}\" -thresh 0.5 -i 0 \\\n",
        "-out_filename \"{output_video_file}\" -ext_output > {output_text_file}"
      ]
    },
    {
      "cell_type": "markdown",
      "metadata": {
        "id": "76_IWzNN0t0C"
      },
      "source": [
        "## Calculate No. of Falls"
      ]
    },
    {
      "cell_type": "code",
      "execution_count": null,
      "metadata": {
        "id": "rrVZCxzG1KxP"
      },
      "outputs": [],
      "source": [
        "# Import packages\n",
        "import re\n",
        "import csv\n",
        "import pandas as pd\n",
        "import matplotlib.pyplot as plt\n",
        "from mpl_toolkits.mplot3d import Axes3D\n",
        "from datetime import datetime, timedelta"
      ]
    },
    {
      "cell_type": "code",
      "execution_count": null,
      "metadata": {
        "id": "PXgodwD6w7Xv"
      },
      "outputs": [],
      "source": [
        "# Input and output file paths\n",
        "input_file_path = f\"{base_drive_path}/darknet/box_coordinate.txt\"\n",
        "# input_file_path = \"/content/box_coordinate.txt\"\n",
        "output_file_path_BCP = f\"{base_drive_path}/darknet/box_coordinate_processed.csv\"\n",
        "\n",
        "# Regular expression pattern to extract the desired information\n",
        "pattern = r'SN3 Present_fly: (\\d+)%\\s+\\(left_x:\\s+(\\d+)\\s+top_y:\\s+(\\d+)\\s+width:\\s+(\\d+)\\s+height:\\s+(\\d+)\\)'\n",
        "\n",
        "# Process content and write to CSV file\n",
        "with open(input_file_path, 'r') as input_file, open(output_file_path_BCP, 'w', newline='') as output_file:\n",
        "    csv_writer = csv.writer(output_file)\n",
        "    csv_writer.writerow(['Serial number', 'left_x', 'top_y', 'width', 'height'])\n",
        "\n",
        "    for i, line in enumerate(input_file, 1):\n",
        "        # Extract values using regex\n",
        "        match = re.match(pattern, line)\n",
        "        if match:\n",
        "            percentage, left_x, top_y, width, height = match.groups()\n",
        "            csv_writer.writerow([i, int(left_x), int(top_y), int(width), int(height)])"
      ]
    },
    {
      "cell_type": "code",
      "execution_count": null,
      "metadata": {
        "id": "PNyGqf601Hj-"
      },
      "outputs": [],
      "source": [
        "# CSV file path on Google Drive\n",
        "csv_file_path = output_file_path_BCP\n",
        "\n",
        "# Read CSV file into a DataFrame\n",
        "df = pd.read_csv(csv_file_path)\n",
        "\n",
        "# Add a new column \"second\" with calculated values - 30 is the frames per second.\n",
        "df[\"second\"] = df[\"Serial number\"]/30\n",
        "\n",
        "# Display the DataFrame with the new column\n",
        "print(df)\n",
        "\n",
        "df.to_csv(csv_file_path, index=False)"
      ]
    },
    {
      "cell_type": "code",
      "execution_count": null,
      "metadata": {
        "id": "sOa3cBLL1tLA"
      },
      "outputs": [],
      "source": [
        "# CSV file path on Google Drive\n",
        "csv_file_path = output_file_path_BCP\n",
        "output_file_path = f\"{base_drive_path}/darknet/box_coordinate_processed_bkp_with_delta_y.csv\"\n",
        "\n",
        "\n",
        "# Read CSV file into a DataFrame\n",
        "df = pd.read_csv(csv_file_path)\n",
        "\n",
        "# Add a new column \"delta_y\" with the difference between current top_y and previous top_y\n",
        "df['delta_y'] = df['top_y'].diff()\n",
        "\n",
        "# Save the modified DataFrame back to the CSV file\n",
        "df.to_csv(output_file_path, index=False)\n",
        "\n",
        "# Display the modified DataFrame\n",
        "print(df.head())"
      ]
    },
    {
      "cell_type": "markdown",
      "metadata": {
        "id": "CkH4gROV2Qwn"
      },
      "source": [
        "### 3-D Scatter Plot"
      ]
    },
    {
      "cell_type": "code",
      "execution_count": null,
      "metadata": {
        "id": "1-l1A4H81tHl"
      },
      "outputs": [],
      "source": [
        "# CSV file path on Google Drive\n",
        "csv_file_path = output_file_path_BCP\n",
        "\n",
        "# Read CSV file into a DataFrame\n",
        "df = pd.read_csv(csv_file_path)\n",
        "\n",
        "df_filtered = df[(df['second'] > 2151) & (df['second'] < 2181)] #597 fly falls\n",
        "\n",
        "# Create a 3D scatter plot\n",
        "fig = plt.figure(figsize=(20, 20))\n",
        "ax = fig.add_subplot(111, projection='3d')\n",
        "marker_size = 1000\n",
        "\n",
        "# Plot the data points in 3D\n",
        "scatter = ax.scatter(df_filtered['second'], df_filtered['left_x'], df_filtered['top_y'], c=df_filtered['second'], cmap='viridis', marker='o', s=marker_size, label='Data Points')\n",
        "# scatter = ax.scatter(df['second'], df['left_x'], df['top_y'], c=df['second'], cmap='viridis', marker='o', s=marker_size, label='Data Points')\n",
        "\n",
        "\n",
        "# Set labels for the axes\n",
        "ax.set_xlabel('second')\n",
        "ax.set_ylabel('left_x')\n",
        "ax.set_zlabel('top_y')\n",
        "\n",
        "# Add a colorbar for the 'second' values\n",
        "colorbar = plt.colorbar(scatter, ax=ax, label='second')\n",
        "\n",
        "# Set the viewing angle\n",
        "ax.view_init(elev=20, azim=10) #90\n",
        "\n",
        "# Show the plot\n",
        "plt.title('3D Scatter Plot of second, left_x, and top_y')\n",
        "plt.show()\n"
      ]
    },
    {
      "cell_type": "markdown",
      "metadata": {
        "id": "WI_ORFcm2hNc"
      },
      "source": [
        "### Predicted values written to csv, keeping fall threshold = 60 units in y coordinate values"
      ]
    },
    {
      "cell_type": "code",
      "execution_count": null,
      "metadata": {
        "id": "V4pEG-Xg1tEY"
      },
      "outputs": [],
      "source": [
        "# CSV file path on Google Drive\n",
        "csv_file_path = f\"{base_drive_path}/darknet/box_coordinate_processed_bkp_with_delta_y.csv\"\n",
        "\n",
        "# Read CSV file into a DataFrame\n",
        "df = pd.read_csv(csv_file_path)\n",
        "\n",
        "# Add a new column \"Fall\" based on the condition delta_y > 90\n",
        "df['Fall'] = df['delta_y'] > 60\n",
        "# df['Fall'] = df['delta_y'] < -60\n",
        "\n",
        "# Save the modified DataFrame back to the CSV file\n",
        "df.to_csv(csv_file_path, index=False)\n",
        "\n",
        "# Display the modified DataFrame\n",
        "print(df.head())\n"
      ]
    },
    {
      "cell_type": "code",
      "execution_count": null,
      "metadata": {
        "id": "wc41J2n53kQ2"
      },
      "outputs": [],
      "source": [
        "# Define file paths\n",
        "predictions_path = f\"{base_drive_path}/darknet/box_coordinate_processed_bkp_with_delta_y.csv\"\n",
        "\n",
        "# Read predictions file\n",
        "predictions_df = pd.read_csv(predictions_path)\n",
        "\n",
        "# Filter rows where \"Fall\" column is True\n",
        "predicted_falls_df = predictions_df[predictions_df['Fall']]\n"
      ]
    },
    {
      "cell_type": "code",
      "execution_count": null,
      "metadata": {
        "id": "91PQJkOs33U9"
      },
      "outputs": [],
      "source": [
        "# Total Number of Predicted Falls\n",
        "total_predicted_falls = predicted_falls_df['Fall'].sum()\n",
        "print(f'Total Predicted Falls: {total_predicted_falls}')\n"
      ]
    },
    {
      "cell_type": "markdown",
      "metadata": {
        "id": "g8tyohiPF45y"
      },
      "source": [
        "## Calculate Time Stamps"
      ]
    },
    {
      "cell_type": "markdown",
      "metadata": {
        "id": "TIaCUGDt_2BG"
      },
      "source": [
        "### Split the Video frame by frame"
      ]
    },
    {
      "cell_type": "code",
      "execution_count": null,
      "metadata": {
        "id": "4rKpV0Ze_Eyu"
      },
      "outputs": [],
      "source": [
        "!chmod +x darknet"
      ]
    },
    {
      "cell_type": "code",
      "execution_count": null,
      "metadata": {
        "id": "5vDJvTFS926p"
      },
      "outputs": [],
      "source": [
        "import cv2\n",
        "from tqdm import tqdm\n",
        "\n",
        "# Open the video file\n",
        "video_file = f\"{base_drive_path}/fly_fall_test_videos/5-26-19-IR/AviFileChunk18_View0.mp4\"\n",
        "video = cv2.VideoCapture(video_file)\n",
        "\n",
        "# Get the total number of frames in the video\n",
        "total_frames = int(video.get(cv2.CAP_PROP_FRAME_COUNT))\n",
        "\n",
        "# Create a directory to store the frames\n",
        "!mkdir -p \"/content/frames/\"\n",
        "!rm -rf /content/frames/*\n",
        "\n",
        "# Initialize the current frame counter\n",
        "current_frame = 0\n",
        "\n",
        "# Loop over the frames of the video with tqdm progress bar\n",
        "with tqdm(total=total_frames, desc=\"Processing frames\") as pbar:\n",
        "    while True:\n",
        "        # Read the next frame\n",
        "        ret, frame = video.read()\n",
        "\n",
        "        # If the frame is empty, break out of the loop\n",
        "        if not ret:\n",
        "            break\n",
        "\n",
        "        # Save the frame as a JPG file in the frames directory\n",
        "        cv2.imwrite(\"/content/frames/frame{:06d}.jpg\".format(current_frame), frame)\n",
        "\n",
        "        # Increment the current frame counter\n",
        "        current_frame += 1\n",
        "\n",
        "        # Update the progress bar\n",
        "        pbar.update(1)\n",
        "\n",
        "# Release the video capture object\n",
        "video.release()"
      ]
    },
    {
      "cell_type": "code",
      "execution_count": null,
      "metadata": {
        "id": "ze9UwHvvGnQO"
      },
      "outputs": [],
      "source": [
        "! ls /content/frames/ | awk '{print \"/content/frames/\" $1}' > /content/train.txt"
      ]
    },
    {
      "cell_type": "code",
      "execution_count": null,
      "metadata": {
        "id": "VVTlHuzN_fVv"
      },
      "outputs": [],
      "source": [
        "# Run YOLOv4 Object Detection\n",
        "\n",
        "!./darknet detector demo data/obj.data cfg/yolov4-custom.cfg {training_weights} \\\n",
        "-dont_show \"{video_input_folder}/{video_file_name}\" -thresh 0.5 -i 0 \\\n",
        "-out_filename \"{output_video_file}\" -ext_output > {output_text_file}"
      ]
    },
    {
      "cell_type": "code",
      "execution_count": null,
      "metadata": {
        "id": "yuZ2gQjf_WGc"
      },
      "outputs": [],
      "source": [
        "! ./darknet detector test data/obj.data cfg/yolov4-custom.cfg {training_weights} \\\n",
        "-dont_show -thresh 0.5 < /content/train.txt > /content/result.txt"
      ]
    },
    {
      "cell_type": "code",
      "execution_count": null,
      "metadata": {
        "id": "wbX7V18b_oAg"
      },
      "outputs": [],
      "source": [
        "!cp /content/result.txt /content/gdrive/MyDrive/Colab\\ Notebooks/Fall_project/"
      ]
    },
    {
      "cell_type": "markdown",
      "metadata": {
        "id": "E_taTwyW_6_f"
      },
      "source": [
        "### Formate the data"
      ]
    },
    {
      "cell_type": "code",
      "execution_count": null,
      "metadata": {
        "id": "jaJco8ipAQzi"
      },
      "outputs": [],
      "source": [
        "import re\n",
        "import csv\n",
        "import os\n",
        "import pandas as pd\n",
        "from datetime import datetime, timedelta"
      ]
    },
    {
      "cell_type": "code",
      "execution_count": null,
      "metadata": {
        "id": "zeMvl5Xw_uKX"
      },
      "outputs": [],
      "source": [
        "# Define the regular expressions for matching the required data\n",
        "frame_regex = re.compile(r'/content/frames/(frame\\d{6})\\.jpg')\n",
        "present_fly_regex = re.compile(r'Present_fly: \\d+%')\n",
        "bbox_regex = re.compile(r'Bounding Box.*: Left=(\\d+), Top=(\\d+), Right=(\\d+), Bottom=(\\d+)')\n",
        "\n",
        "# Initialize variables\n",
        "frame_data = []\n",
        "serial_number = 1\n",
        "\n",
        "# Read the input text file\n",
        "with open('/content/result.txt', 'r') as file:\n",
        "    lines = file.readlines()\n",
        "    current_frame = None\n",
        "    for line in lines:\n",
        "        frame_match = frame_regex.search(line)\n",
        "        if frame_match:\n",
        "            current_frame = frame_match.group(1)\n",
        "            frame_data.append([serial_number, current_frame, \"Absent_fly\", 0, 0, 0, 0])\n",
        "            serial_number += 1\n",
        "\n",
        "        if current_frame:\n",
        "            present_fly_match = present_fly_regex.search(line)\n",
        "            if present_fly_match:\n",
        "                frame_data[-1][2] = \"Present_fly\"\n",
        "\n",
        "            bbox_match = bbox_regex.search(line)\n",
        "            if bbox_match:\n",
        "                left_x = int(bbox_match.group(1))\n",
        "                top_y = int(bbox_match.group(2))\n",
        "                right_x = int(bbox_match.group(3))\n",
        "                bottom_y = int(bbox_match.group(4))\n",
        "                width = right_x - left_x\n",
        "                height = bottom_y - top_y\n",
        "                frame_data[-1][3] = left_x\n",
        "                frame_data[-1][4] = top_y\n",
        "                frame_data[-1][5] = width\n",
        "                frame_data[-1][6] = height\n",
        "\n",
        "# Convert to DataFrame\n",
        "df = pd.DataFrame(frame_data, columns=['Serial number', 'Frame', 'Fly_status', 'left_x', 'top_y', 'width', 'height'])\n",
        "\n",
        "# Calculate seconds column\n",
        "df['seconds'] = df['Serial number'] / 30\n",
        "\n",
        "# Define file paths\n",
        "local_file_path = '/content/output.csv'\n",
        "\n",
        "# Save locally\n",
        "df.to_csv(local_file_path, index=False)"
      ]
    },
    {
      "cell_type": "code",
      "execution_count": null,
      "metadata": {
        "id": "n4tyzB29ACUW"
      },
      "outputs": [],
      "source": [
        "# Add Delta\n",
        "\n",
        "# Initialize delta_y column\n",
        "df['delta_y'] = 0\n",
        "\n",
        "# Calculate delta_y based on the specified conditions\n",
        "for i in range(1, len(df)):\n",
        "    if df.loc[i, 'top_y'] == 0:\n",
        "        df.loc[i, 'delta_y'] = 0\n",
        "    else:\n",
        "        j = i - 1\n",
        "        while j >= 0 and df.loc[j, 'top_y'] == 0:\n",
        "            j -= 1\n",
        "        if j >= 0:\n",
        "            df.loc[i, 'delta_y'] = df.loc[i, 'top_y'] - df.loc[j, 'top_y']\n",
        "\n",
        "# Define file paths\n",
        "local_file_path = '/content/output_with_delta_y.csv'\n",
        "\n",
        "# Save locally\n",
        "df.to_csv(local_file_path, index=False)"
      ]
    },
    {
      "cell_type": "code",
      "execution_count": null,
      "metadata": {
        "id": "37IeT4e4AsV6"
      },
      "outputs": [],
      "source": [
        "# Add threshold\n",
        "\n",
        "df['Fall'] = df['delta_y'] > 60\n",
        "\n",
        "# Define file paths\n",
        "local_file_path = '/content/output_with_bkp_delta_y.csv'\n",
        "\n",
        "# Save locally\n",
        "df.to_csv(local_file_path, index=False)"
      ]
    },
    {
      "cell_type": "code",
      "execution_count": null,
      "metadata": {
        "id": "FT7BMBFQAxAy"
      },
      "outputs": [],
      "source": [
        "# Show True values\n",
        "true_falls = df[df['Fall'] == True]\n",
        "true_falls"
      ]
    },
    {
      "cell_type": "markdown",
      "metadata": {
        "id": "FYeG0JjGBfmw"
      },
      "source": [
        "### Find Timestamp"
      ]
    },
    {
      "cell_type": "code",
      "execution_count": null,
      "metadata": {
        "id": "ZejWBFkMA8qF"
      },
      "outputs": [],
      "source": [
        "# Convert to TimeStamps\n",
        "\n",
        "def convert_seconds(seconds_list):\n",
        "    result = []\n",
        "    for seconds in seconds_list:\n",
        "        # Convert the total seconds to hours, minutes, and remaining seconds\n",
        "        hours = int(seconds // 3600)\n",
        "        minutes = int((seconds % 3600) // 60)\n",
        "        seconds = int(seconds % 60)\n",
        "\n",
        "        # Format as HH:MM:SS\n",
        "        formatted_time = f\"{hours:02}:{minutes:02}:{seconds:02}\"\n",
        "        result.append(formatted_time)\n",
        "\n",
        "    return result\n",
        "\n",
        "# Input seconds list\n",
        "seconds_list = df['seconds']\n",
        "\n",
        "# Convert seconds to HH:MM:SS\n",
        "converted_times = convert_seconds(seconds_list)\n",
        "\n",
        "# Add the new column to the DataFrame\n",
        "df['timestamp'] = converted_times\n",
        "\n",
        "\n",
        "# Identify the indices where falls is True\n",
        "true_indices = df.index[df['Fall'] == True].tolist()\n",
        "\n",
        "# Add the row before each True value\n",
        "all_indices = set(true_indices + [i-1 for i in true_indices if i-1 >= 0])\n",
        "\n",
        "# Select and print the rows\n",
        "result_df = df.loc[sorted(all_indices)]\n",
        "\n",
        "true_falls = df[df['Fall'] == True]\n",
        "\n",
        "# result_df\n",
        "true_falls"
      ]
    },
    {
      "cell_type": "code",
      "execution_count": null,
      "metadata": {
        "id": "l366BLpEBA1o"
      },
      "outputs": [],
      "source": [
        "# Filter rows where \"Fall\" column is True\n",
        "predicted_falls_df = df[df['Fall']]\n",
        "\n",
        "# Input seconds list\n",
        "seconds_list = predicted_falls_df['seconds']\n",
        "\n",
        "# Convert and print the results\n",
        "converted_times = convert_seconds(seconds_list)\n",
        "for time in converted_times:\n",
        "    print(time)"
      ]
    },
    {
      "cell_type": "code",
      "source": [
        "# prompt: find max value in column top_y and print the frame number which have top_y greater than 400 and has Fall = True, also print the corresponding timestamps\n",
        "\n",
        "# Find the maximum value in the 'top_y' column\n",
        "max_top_y = df['top_y'].max()\n",
        "\n",
        "# Find rows where 'top_y' is greater than 400 and 'Fall' is True\n",
        "filtered_rows = df[(df['top_y'] > 440) & (df['Fall'] == True)]\n",
        "\n",
        "print(len(filtered_rows))\n",
        "\n",
        "# Print the frame number, top_y value, and timestamp for these rows\n",
        "for index, row in filtered_rows.iterrows():\n",
        "  print(f\"Frame Number: {row['Frame']}, top_y: {row['top_y']}, Timestamp: {row['timestamp']}\")\n"
      ],
      "metadata": {
        "id": "eReoD-juwmgz"
      },
      "execution_count": null,
      "outputs": []
    },
    {
      "cell_type": "code",
      "source": [
        "# prompt: find max value in column top_y and print the frame number which have top_y greater than 400 and has Fall = True, also print the corresponding timestamps. Show only unique timestamps\n",
        "\n",
        "# Find the maximum value in the 'top_y' column\n",
        "max_top_y = df['top_y'].max()\n",
        "\n",
        "# Find rows where 'top_y' is greater than 400 and 'Fall' is True\n",
        "filtered_df = df[(df['top_y'] > 440) & (df['Fall'] == True)]\n",
        "\n",
        "# Extract the frame numbers and timestamps for the filtered rows\n",
        "frame_numbers = filtered_df['Frame'].tolist()\n",
        "timestamps = filtered_df['timestamp'].tolist()\n",
        "\n",
        "# Remove duplicate timestamps\n",
        "unique_timestamps = []\n",
        "for timestamp in timestamps:\n",
        "  if timestamp not in unique_timestamps:\n",
        "    unique_timestamps.append(timestamp)\n",
        "\n",
        "# Print the results\n",
        "print(f\"Max top_y: {max_top_y}\")\n",
        "print(\"Frame Numbers with top_y > 400 and Fall = True:\")\n",
        "for frame_number in frame_numbers:\n",
        "  print(frame_number)\n",
        "print(\"Corresponding Unique Timestamps:\")\n",
        "for timestamp in unique_timestamps:\n",
        "  print(timestamp)\n"
      ],
      "metadata": {
        "id": "8LI4NEGgzy7h"
      },
      "execution_count": null,
      "outputs": []
    }
  ],
  "metadata": {
    "accelerator": "GPU",
    "colab": {
      "gpuType": "T4",
      "provenance": []
    },
    "kernelspec": {
      "display_name": "Python 3",
      "name": "python3"
    },
    "language_info": {
      "name": "python"
    }
  },
  "nbformat": 4,
  "nbformat_minor": 0
}